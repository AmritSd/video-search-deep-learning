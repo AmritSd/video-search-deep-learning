{
 "cells": [
  {
   "cell_type": "code",
   "execution_count": 2,
   "metadata": {},
   "outputs": [
    {
     "data": {
      "text/plain": [
       "True"
      ]
     },
     "execution_count": 2,
     "metadata": {},
     "output_type": "execute_result"
    }
   ],
   "source": [
    "#from GenerativeImage2Text.generativeimage2text import inference\n",
    "import torch\n",
    "import cv2\n",
    "\n",
    "# Verify GPU usage\n",
    "torch.cuda.is_available()"
   ]
  },
  {
   "cell_type": "code",
   "execution_count": 4,
   "metadata": {},
   "outputs": [
    {
     "name": "stdout",
     "output_type": "stream",
     "text": [
      "output: ##vedavedavedavedavedavedavedavedavedavedavedavedavedavedavedavedavedavedavedavedavedavedavedavedavedavedavedavedavedavedavedavedavedavedavedavedavedavedavedavedavedavedavedavedavedavedavedavedavedavedavedavedavedavedavedavedavedavedavedavedavedavedavedavedavedavedavedavedavedavedavedavedavedavedavedavedavedavedavedavedavedavedavedavedavedavedavedavedavedavedavedavedavedavedavedavedavedavedavedavedavedavedavedavedavedavedavedavedavedavedavedavedavedavedavedavedavedavedavedavedavedavedavedavedavedavedavedavedavedavedavedavedavedavedavedavedavedavedavedavedavedavedavedavedavedavedavedavedavedavedavedavedavedavedavedaveda kgb kgb kgb kgb kgb kgb kgb kgb kgb kgb kgb kgb kgb kgb kgb kgb kgb kgb kgb kgb kgb kgb kgb kgb kgb kgb kgb kgb kgb kgb kgb kgb kgb kgb kgb kgb kgb kgb kgb kgb kgb kgb kgb kgb kgb kgb kgb kgb kgb kgb kgb kgb kgb kgb kgb kgb kgb kgb kgb kgb kgb kgb kgb kgb kgb kgb kgb kgb kgb kgb kgb kgb kgb kgb kgb kgb kgb kgb kgb kgb kgb kgb kgb kgb kgb kgb kgb kgb kgb kgb kgb kgb kgb kgb kgb kgb kgb kgb kgb kgb kgb kgb kgb kgb kgb kgb kgb kgb kgb kgb kgb intellect intellect intellect intellect intellect intellect intellect intellect intellect intellect intellect intellect intellect intellect intellect intellect intellect intellect intellect intellect intellect intellect intellect intellect intellect intellect intellect intellect intellect intellect intellect intellect intellect intellect intellect intellect intellect intellect intellect intellect intellect intellect intellect intellect intellect intellect intellect intellect intellect intellect intellect intellect intellect intellect intellect intellect intellect intellect intellect intellect intellect intellect intellect intellect intellect intellect intellect intellect intellect intellect intellect intellect intellect intellect intellect intellect intellect intellect intellect intellect intellect intellect intellect intellect intellect intellect intellect intellect intellect intellect intellect intellect intellect intellect intellect intellect intellect intellect intellect intellect intellect intellect intellect intellect intellect intellect intellect intellect intellect intellect intellect intellect intellect intellect intellect intellect intellect intellect intellect intellect intellect intellect intellect intellect intellect intellect intellect intellect intellect intellect intellect intellect intellect intellect intellect intellect intellect intellect intellect intellect intellect intellect intellect intellect intellect intellect intellect intellect intellect intellect intellect intellect intellect intellect intellect intellect intellect intellect intellect intellect intellect intellect legs legs legs legs legs legs legs legs legs legs legs legs legs legs legs legs legs legs legs legs legs legs legs legs legs legs legs legs legs legs legs legs legs legs legs legs legs legs legs legs legs legs legs legs legs legs legs legs legs legs legs legs legs legs legs legs legs legs legs legs legs legs legs legs legs legs legs legs legs legs legs legs legs legs legs legs legs legs legs legs legs legs legs legs legs legs legs legs legs legs legs legs legs legs legs legs legs legs legs legs legs legs legs legs legs legs legs herds herds herds herds herds herds herds herds herds herds herds herds herds herds herds herds herds herds herds herds herds herds herds herds herds herds herds herds herds herds herds herds herds herds herds herds herds herds herds herds herds herds herds herds herds herds herds herds herds herds herds herds herds herds herds herds herds herds herds herds herds herds herds herds herds herds herds herds herds herds herds herds herds herds herds herds herds herds herds herds herds herds herds herds herds herds herds herds herds herds herds herds herds herds herds herds herds herds herds herds herds herds herds herds herds herds herds herds herds herds herds herds herds herds herds herds herds herds herds herds herds herds herds herds herds herds herds herds herds herds herds herds herds herds herds herds herds herds herds herds herds herds herds herds herds herds herds herds herds herds herds herds herds herds herds herds herds herds herds herds herds herds herds herds herds herds herds herds herds herds herds herds herds herds herds herds herds herds herds herds herds herds herds herds herds herds herds herds herds herds herds herds herds herds herds herds herds herds herds herds herds herds herds herds herds herds herds herds herds herds herds herds herds herds herds herds herds herds herds herds herds herds herds herds herds herds herds herds herds herds herds herds herds herds herds herds herds herds herds herds herds herds herds herds herds herds herds herds herds herds herds herds herds herds herds herds herds herds herds herds herds herds herds herds herds herds herds herds herds herds herds herds herds herds herds herds herds herds herds herds herds herds herds herds herds herds herds herds herds herds herds herds herds herds herds herds herds herds herds herds herds herds herds herds herds herds herds herds herds herds herds herds herds herds herds herds herds herds herds herds herds herds herds herds herds herds herds herds herds herds herds herds herds herds herds herds herds herds herds herds herds herds herds herds herds herds herds herds herds herds herds herds herds herds herds herds herds herds herds herds herds herds herds herds herds herds herds herds herds herds herds herds herds herds herds herds herds herds herds herds herds herds herds herds herds herds herds herds herds herds herds herds herds herds herds herds herds herds herds herds herds herds herds herds herds herds herds herds herds herds herds herds herds herds herds herds herds herds herds herds herds herds herds herds herds herds herds herds herds herds herds herds herds herds herds herds herds herds herds herds herds herds herds herds herds herds herds herds herds herds herds herds herds herds herds herds herds herds herds herds herds herds herds herds herds herds herds herds herds herds herds herds herds herds herds herds herds herds herds herds herds herds herds herds\n"
     ]
    }
   ],
   "source": [
    "#inference.test_git_inference_single_image(image_path=\"GenerativeImage2Text\\\\aux_data\\images\\\\1.jpg\",model_name='GIT_BASE', prefix='')"
   ]
  },
  {
   "cell_type": "code",
   "execution_count": 2,
   "metadata": {},
   "outputs": [
    {
     "data": {
      "text/plain": [
       "True"
      ]
     },
     "execution_count": 2,
     "metadata": {},
     "output_type": "execute_result"
    }
   ],
   "source": []
  },
  {
   "cell_type": "code",
   "execution_count": 3,
   "metadata": {},
   "outputs": [
    {
     "ename": "AttributeError",
     "evalue": "module 'lib' has no attribute 'OpenSSL_add_all_algorithms'",
     "output_type": "error",
     "traceback": [
      "\u001b[1;31m---------------------------------------------------------------------------\u001b[0m",
      "\u001b[1;31mAttributeError\u001b[0m                            Traceback (most recent call last)",
      "\u001b[1;32mc:\\Users\\Mihir\\Documents\\MSBA\\Spring_Term\\DEEP_LEARNING_PROJ\\GEN2TEXT.ipynb Cell 4\u001b[0m in \u001b[0;36m<cell line: 1>\u001b[1;34m()\u001b[0m\n\u001b[1;32m----> <a href='vscode-notebook-cell:/c%3A/Users/Mihir/Documents/MSBA/Spring_Term/DEEP_LEARNING_PROJ/GEN2TEXT.ipynb#W3sZmlsZQ%3D%3D?line=0'>1</a>\u001b[0m \u001b[39mfrom\u001b[39;00m \u001b[39mtransformers\u001b[39;00m \u001b[39mimport\u001b[39;00m TrOCRProcessor, VisionEncoderDecoderModel\n\u001b[0;32m      <a href='vscode-notebook-cell:/c%3A/Users/Mihir/Documents/MSBA/Spring_Term/DEEP_LEARNING_PROJ/GEN2TEXT.ipynb#W3sZmlsZQ%3D%3D?line=1'>2</a>\u001b[0m \u001b[39mfrom\u001b[39;00m \u001b[39mPIL\u001b[39;00m \u001b[39mimport\u001b[39;00m Image\n",
      "File \u001b[1;32mc:\\Users\\Mihir\\anaconda3\\lib\\site-packages\\transformers\\__init__.py:30\u001b[0m, in \u001b[0;36m<module>\u001b[1;34m\u001b[0m\n\u001b[0;32m     27\u001b[0m \u001b[39mfrom\u001b[39;00m \u001b[39mtyping\u001b[39;00m \u001b[39mimport\u001b[39;00m TYPE_CHECKING\n\u001b[0;32m     29\u001b[0m \u001b[39m# Check the dependencies satisfy the minimal versions required.\u001b[39;00m\n\u001b[1;32m---> 30\u001b[0m \u001b[39mfrom\u001b[39;00m \u001b[39m.\u001b[39;00m \u001b[39mimport\u001b[39;00m dependency_versions_check\n\u001b[0;32m     31\u001b[0m \u001b[39mfrom\u001b[39;00m \u001b[39m.\u001b[39;00m\u001b[39mutils\u001b[39;00m \u001b[39mimport\u001b[39;00m (\n\u001b[0;32m     32\u001b[0m     OptionalDependencyNotAvailable,\n\u001b[0;32m     33\u001b[0m     _LazyModule,\n\u001b[1;32m   (...)\u001b[0m\n\u001b[0;32m     44\u001b[0m     logging,\n\u001b[0;32m     45\u001b[0m )\n\u001b[0;32m     48\u001b[0m logger \u001b[39m=\u001b[39m logging\u001b[39m.\u001b[39mget_logger(\u001b[39m__name__\u001b[39m)  \u001b[39m# pylint: disable=invalid-name\u001b[39;00m\n",
      "File \u001b[1;32mc:\\Users\\Mihir\\anaconda3\\lib\\site-packages\\transformers\\dependency_versions_check.py:36\u001b[0m, in \u001b[0;36m<module>\u001b[1;34m\u001b[0m\n\u001b[0;32m     33\u001b[0m \u001b[39mif\u001b[39;00m pkg \u001b[39min\u001b[39;00m deps:\n\u001b[0;32m     34\u001b[0m     \u001b[39mif\u001b[39;00m pkg \u001b[39m==\u001b[39m \u001b[39m\"\u001b[39m\u001b[39mtokenizers\u001b[39m\u001b[39m\"\u001b[39m:\n\u001b[0;32m     35\u001b[0m         \u001b[39m# must be loaded here, or else tqdm check may fail\u001b[39;00m\n\u001b[1;32m---> 36\u001b[0m         \u001b[39mfrom\u001b[39;00m \u001b[39m.\u001b[39;00m\u001b[39mutils\u001b[39;00m \u001b[39mimport\u001b[39;00m is_tokenizers_available\n\u001b[0;32m     38\u001b[0m         \u001b[39mif\u001b[39;00m \u001b[39mnot\u001b[39;00m is_tokenizers_available():\n\u001b[0;32m     39\u001b[0m             \u001b[39mcontinue\u001b[39;00m  \u001b[39m# not required, check version only if installed\u001b[39;00m\n",
      "File \u001b[1;32mc:\\Users\\Mihir\\anaconda3\\lib\\site-packages\\transformers\\utils\\__init__.py:34\u001b[0m, in \u001b[0;36m<module>\u001b[1;34m\u001b[0m\n\u001b[0;32m     25\u001b[0m \u001b[39mfrom\u001b[39;00m \u001b[39m.\u001b[39;00m\u001b[39mconstants\u001b[39;00m \u001b[39mimport\u001b[39;00m IMAGENET_DEFAULT_MEAN, IMAGENET_DEFAULT_STD, IMAGENET_STANDARD_MEAN, IMAGENET_STANDARD_STD\n\u001b[0;32m     26\u001b[0m \u001b[39mfrom\u001b[39;00m \u001b[39m.\u001b[39;00m\u001b[39mdoc\u001b[39;00m \u001b[39mimport\u001b[39;00m (\n\u001b[0;32m     27\u001b[0m     add_code_sample_docstrings,\n\u001b[0;32m     28\u001b[0m     add_end_docstrings,\n\u001b[1;32m   (...)\u001b[0m\n\u001b[0;32m     32\u001b[0m     replace_return_docstrings,\n\u001b[0;32m     33\u001b[0m )\n\u001b[1;32m---> 34\u001b[0m \u001b[39mfrom\u001b[39;00m \u001b[39m.\u001b[39;00m\u001b[39mgeneric\u001b[39;00m \u001b[39mimport\u001b[39;00m (\n\u001b[0;32m     35\u001b[0m     ContextManagers,\n\u001b[0;32m     36\u001b[0m     ExplicitEnum,\n\u001b[0;32m     37\u001b[0m     ModelOutput,\n\u001b[0;32m     38\u001b[0m     PaddingStrategy,\n\u001b[0;32m     39\u001b[0m     TensorType,\n\u001b[0;32m     40\u001b[0m     cached_property,\n\u001b[0;32m     41\u001b[0m     can_return_loss,\n\u001b[0;32m     42\u001b[0m     expand_dims,\n\u001b[0;32m     43\u001b[0m     find_labels,\n\u001b[0;32m     44\u001b[0m     flatten_dict,\n\u001b[0;32m     45\u001b[0m     is_jax_tensor,\n\u001b[0;32m     46\u001b[0m     is_numpy_array,\n\u001b[0;32m     47\u001b[0m     is_tensor,\n\u001b[0;32m     48\u001b[0m     is_tf_tensor,\n\u001b[0;32m     49\u001b[0m     is_torch_device,\n\u001b[0;32m     50\u001b[0m     is_torch_dtype,\n\u001b[0;32m     51\u001b[0m     is_torch_tensor,\n\u001b[0;32m     52\u001b[0m     reshape,\n\u001b[0;32m     53\u001b[0m     squeeze,\n\u001b[0;32m     54\u001b[0m     tensor_size,\n\u001b[0;32m     55\u001b[0m     to_numpy,\n\u001b[0;32m     56\u001b[0m     to_py_obj,\n\u001b[0;32m     57\u001b[0m     transpose,\n\u001b[0;32m     58\u001b[0m     working_or_temp_dir,\n\u001b[0;32m     59\u001b[0m )\n\u001b[0;32m     60\u001b[0m \u001b[39mfrom\u001b[39;00m \u001b[39m.\u001b[39;00m\u001b[39mhub\u001b[39;00m \u001b[39mimport\u001b[39;00m (\n\u001b[0;32m     61\u001b[0m     CLOUDFRONT_DISTRIB_PREFIX,\n\u001b[0;32m     62\u001b[0m     DISABLE_TELEMETRY,\n\u001b[1;32m   (...)\u001b[0m\n\u001b[0;32m     88\u001b[0m     send_example_telemetry,\n\u001b[0;32m     89\u001b[0m )\n\u001b[0;32m     90\u001b[0m \u001b[39mfrom\u001b[39;00m \u001b[39m.\u001b[39;00m\u001b[39mimport_utils\u001b[39;00m \u001b[39mimport\u001b[39;00m (\n\u001b[0;32m     91\u001b[0m     ENV_VARS_TRUE_AND_AUTO_VALUES,\n\u001b[0;32m     92\u001b[0m     ENV_VARS_TRUE_VALUES,\n\u001b[1;32m   (...)\u001b[0m\n\u001b[0;32m    169\u001b[0m     torch_version,\n\u001b[0;32m    170\u001b[0m )\n",
      "File \u001b[1;32mc:\\Users\\Mihir\\anaconda3\\lib\\site-packages\\transformers\\utils\\generic.py:33\u001b[0m, in \u001b[0;36m<module>\u001b[1;34m\u001b[0m\n\u001b[0;32m     29\u001b[0m \u001b[39mfrom\u001b[39;00m \u001b[39m.\u001b[39;00m\u001b[39mimport_utils\u001b[39;00m \u001b[39mimport\u001b[39;00m is_flax_available, is_tf_available, is_torch_available, is_torch_fx_proxy\n\u001b[0;32m     32\u001b[0m \u001b[39mif\u001b[39;00m is_tf_available():\n\u001b[1;32m---> 33\u001b[0m     \u001b[39mimport\u001b[39;00m \u001b[39mtensorflow\u001b[39;00m \u001b[39mas\u001b[39;00m \u001b[39mtf\u001b[39;00m\n\u001b[0;32m     35\u001b[0m \u001b[39mif\u001b[39;00m is_flax_available():\n\u001b[0;32m     36\u001b[0m     \u001b[39mimport\u001b[39;00m \u001b[39mjax\u001b[39;00m\u001b[39m.\u001b[39;00m\u001b[39mnumpy\u001b[39;00m \u001b[39mas\u001b[39;00m \u001b[39mjnp\u001b[39;00m\n",
      "File \u001b[1;32mc:\\Users\\Mihir\\anaconda3\\lib\\site-packages\\tensorflow\\__init__.py:51\u001b[0m, in \u001b[0;36m<module>\u001b[1;34m\u001b[0m\n\u001b[0;32m     49\u001b[0m \u001b[39mfrom\u001b[39;00m \u001b[39m.\u001b[39;00m\u001b[39m_api\u001b[39;00m\u001b[39m.\u001b[39;00m\u001b[39mv2\u001b[39;00m \u001b[39mimport\u001b[39;00m autograph\n\u001b[0;32m     50\u001b[0m \u001b[39mfrom\u001b[39;00m \u001b[39m.\u001b[39;00m\u001b[39m_api\u001b[39;00m\u001b[39m.\u001b[39;00m\u001b[39mv2\u001b[39;00m \u001b[39mimport\u001b[39;00m bitwise\n\u001b[1;32m---> 51\u001b[0m \u001b[39mfrom\u001b[39;00m \u001b[39m.\u001b[39;00m\u001b[39m_api\u001b[39;00m\u001b[39m.\u001b[39;00m\u001b[39mv2\u001b[39;00m \u001b[39mimport\u001b[39;00m compat\n\u001b[0;32m     52\u001b[0m \u001b[39mfrom\u001b[39;00m \u001b[39m.\u001b[39;00m\u001b[39m_api\u001b[39;00m\u001b[39m.\u001b[39;00m\u001b[39mv2\u001b[39;00m \u001b[39mimport\u001b[39;00m config\n\u001b[0;32m     53\u001b[0m \u001b[39mfrom\u001b[39;00m \u001b[39m.\u001b[39;00m\u001b[39m_api\u001b[39;00m\u001b[39m.\u001b[39;00m\u001b[39mv2\u001b[39;00m \u001b[39mimport\u001b[39;00m data\n",
      "File \u001b[1;32mc:\\Users\\Mihir\\anaconda3\\lib\\site-packages\\tensorflow\\_api\\v2\\compat\\__init__.py:37\u001b[0m, in \u001b[0;36m<module>\u001b[1;34m\u001b[0m\n\u001b[0;32m      3\u001b[0m \u001b[39m\"\"\"Compatibility functions.\u001b[39;00m\n\u001b[0;32m      4\u001b[0m \n\u001b[0;32m      5\u001b[0m \u001b[39mThe `tf.compat` module contains two sets of compatibility functions.\u001b[39;00m\n\u001b[1;32m   (...)\u001b[0m\n\u001b[0;32m     32\u001b[0m \n\u001b[0;32m     33\u001b[0m \u001b[39m\"\"\"\u001b[39;00m\n\u001b[0;32m     35\u001b[0m \u001b[39mimport\u001b[39;00m \u001b[39msys\u001b[39;00m \u001b[39mas\u001b[39;00m \u001b[39m_sys\u001b[39;00m\n\u001b[1;32m---> 37\u001b[0m \u001b[39mfrom\u001b[39;00m \u001b[39m.\u001b[39;00m \u001b[39mimport\u001b[39;00m v1\n\u001b[0;32m     38\u001b[0m \u001b[39mfrom\u001b[39;00m \u001b[39m.\u001b[39;00m \u001b[39mimport\u001b[39;00m v2\n\u001b[0;32m     39\u001b[0m \u001b[39mfrom\u001b[39;00m \u001b[39mtensorflow\u001b[39;00m\u001b[39m.\u001b[39;00m\u001b[39mpython\u001b[39;00m\u001b[39m.\u001b[39;00m\u001b[39mcompat\u001b[39;00m\u001b[39m.\u001b[39;00m\u001b[39mcompat\u001b[39;00m \u001b[39mimport\u001b[39;00m forward_compatibility_horizon\n",
      "File \u001b[1;32mc:\\Users\\Mihir\\anaconda3\\lib\\site-packages\\tensorflow\\_api\\v2\\compat\\v1\\__init__.py:30\u001b[0m, in \u001b[0;36m<module>\u001b[1;34m\u001b[0m\n\u001b[0;32m     28\u001b[0m \u001b[39mfrom\u001b[39;00m \u001b[39m.\u001b[39;00m \u001b[39mimport\u001b[39;00m autograph\n\u001b[0;32m     29\u001b[0m \u001b[39mfrom\u001b[39;00m \u001b[39m.\u001b[39;00m \u001b[39mimport\u001b[39;00m bitwise\n\u001b[1;32m---> 30\u001b[0m \u001b[39mfrom\u001b[39;00m \u001b[39m.\u001b[39;00m \u001b[39mimport\u001b[39;00m compat\n\u001b[0;32m     31\u001b[0m \u001b[39mfrom\u001b[39;00m \u001b[39m.\u001b[39;00m \u001b[39mimport\u001b[39;00m config\n\u001b[0;32m     32\u001b[0m \u001b[39mfrom\u001b[39;00m \u001b[39m.\u001b[39;00m \u001b[39mimport\u001b[39;00m data\n",
      "File \u001b[1;32mc:\\Users\\Mihir\\anaconda3\\lib\\site-packages\\tensorflow\\_api\\v2\\compat\\v1\\compat\\__init__.py:38\u001b[0m, in \u001b[0;36m<module>\u001b[1;34m\u001b[0m\n\u001b[0;32m     35\u001b[0m \u001b[39mimport\u001b[39;00m \u001b[39msys\u001b[39;00m \u001b[39mas\u001b[39;00m \u001b[39m_sys\u001b[39;00m\n\u001b[0;32m     37\u001b[0m \u001b[39mfrom\u001b[39;00m \u001b[39m.\u001b[39;00m \u001b[39mimport\u001b[39;00m v1\n\u001b[1;32m---> 38\u001b[0m \u001b[39mfrom\u001b[39;00m \u001b[39m.\u001b[39;00m \u001b[39mimport\u001b[39;00m v2\n\u001b[0;32m     39\u001b[0m \u001b[39mfrom\u001b[39;00m \u001b[39mtensorflow\u001b[39;00m\u001b[39m.\u001b[39;00m\u001b[39mpython\u001b[39;00m\u001b[39m.\u001b[39;00m\u001b[39mcompat\u001b[39;00m\u001b[39m.\u001b[39;00m\u001b[39mcompat\u001b[39;00m \u001b[39mimport\u001b[39;00m forward_compatibility_horizon\n\u001b[0;32m     40\u001b[0m \u001b[39mfrom\u001b[39;00m \u001b[39mtensorflow\u001b[39;00m\u001b[39m.\u001b[39;00m\u001b[39mpython\u001b[39;00m\u001b[39m.\u001b[39;00m\u001b[39mcompat\u001b[39;00m\u001b[39m.\u001b[39;00m\u001b[39mcompat\u001b[39;00m \u001b[39mimport\u001b[39;00m forward_compatible\n",
      "File \u001b[1;32mc:\\Users\\Mihir\\anaconda3\\lib\\site-packages\\tensorflow\\_api\\v2\\compat\\v1\\compat\\v2\\__init__.py:28\u001b[0m, in \u001b[0;36m<module>\u001b[1;34m\u001b[0m\n\u001b[0;32m     25\u001b[0m \u001b[39m# pylint: disable=g-bad-import-order\u001b[39;00m\n\u001b[0;32m     27\u001b[0m \u001b[39mfrom\u001b[39;00m \u001b[39m.\u001b[39;00m \u001b[39mimport\u001b[39;00m compat\n\u001b[1;32m---> 28\u001b[0m \u001b[39mfrom\u001b[39;00m \u001b[39mtensorflow\u001b[39;00m\u001b[39m.\u001b[39;00m\u001b[39m_api\u001b[39;00m\u001b[39m.\u001b[39;00m\u001b[39mv2\u001b[39;00m\u001b[39m.\u001b[39;00m\u001b[39mcompat\u001b[39;00m\u001b[39m.\u001b[39;00m\u001b[39mv2\u001b[39;00m \u001b[39mimport\u001b[39;00m __internal__\n\u001b[0;32m     29\u001b[0m \u001b[39mfrom\u001b[39;00m \u001b[39mtensorflow\u001b[39;00m\u001b[39m.\u001b[39;00m\u001b[39m_api\u001b[39;00m\u001b[39m.\u001b[39;00m\u001b[39mv2\u001b[39;00m\u001b[39m.\u001b[39;00m\u001b[39mcompat\u001b[39;00m\u001b[39m.\u001b[39;00m\u001b[39mv2\u001b[39;00m \u001b[39mimport\u001b[39;00m __operators__\n\u001b[0;32m     30\u001b[0m \u001b[39mfrom\u001b[39;00m \u001b[39mtensorflow\u001b[39;00m\u001b[39m.\u001b[39;00m\u001b[39m_api\u001b[39;00m\u001b[39m.\u001b[39;00m\u001b[39mv2\u001b[39;00m\u001b[39m.\u001b[39;00m\u001b[39mcompat\u001b[39;00m\u001b[39m.\u001b[39;00m\u001b[39mv2\u001b[39;00m \u001b[39mimport\u001b[39;00m audio\n",
      "File \u001b[1;32mc:\\Users\\Mihir\\anaconda3\\lib\\site-packages\\tensorflow\\_api\\v2\\compat\\v2\\__init__.py:33\u001b[0m, in \u001b[0;36m<module>\u001b[1;34m\u001b[0m\n\u001b[0;32m     31\u001b[0m \u001b[39mfrom\u001b[39;00m \u001b[39m.\u001b[39;00m \u001b[39mimport\u001b[39;00m autograph\n\u001b[0;32m     32\u001b[0m \u001b[39mfrom\u001b[39;00m \u001b[39m.\u001b[39;00m \u001b[39mimport\u001b[39;00m bitwise\n\u001b[1;32m---> 33\u001b[0m \u001b[39mfrom\u001b[39;00m \u001b[39m.\u001b[39;00m \u001b[39mimport\u001b[39;00m compat\n\u001b[0;32m     34\u001b[0m \u001b[39mfrom\u001b[39;00m \u001b[39m.\u001b[39;00m \u001b[39mimport\u001b[39;00m config\n\u001b[0;32m     35\u001b[0m \u001b[39mfrom\u001b[39;00m \u001b[39m.\u001b[39;00m \u001b[39mimport\u001b[39;00m data\n",
      "File \u001b[1;32mc:\\Users\\Mihir\\anaconda3\\lib\\site-packages\\tensorflow\\_api\\v2\\compat\\v2\\compat\\__init__.py:38\u001b[0m, in \u001b[0;36m<module>\u001b[1;34m\u001b[0m\n\u001b[0;32m     35\u001b[0m \u001b[39mimport\u001b[39;00m \u001b[39msys\u001b[39;00m \u001b[39mas\u001b[39;00m \u001b[39m_sys\u001b[39;00m\n\u001b[0;32m     37\u001b[0m \u001b[39mfrom\u001b[39;00m \u001b[39m.\u001b[39;00m \u001b[39mimport\u001b[39;00m v1\n\u001b[1;32m---> 38\u001b[0m \u001b[39mfrom\u001b[39;00m \u001b[39m.\u001b[39;00m \u001b[39mimport\u001b[39;00m v2\n\u001b[0;32m     39\u001b[0m \u001b[39mfrom\u001b[39;00m \u001b[39mtensorflow\u001b[39;00m\u001b[39m.\u001b[39;00m\u001b[39mpython\u001b[39;00m\u001b[39m.\u001b[39;00m\u001b[39mcompat\u001b[39;00m\u001b[39m.\u001b[39;00m\u001b[39mcompat\u001b[39;00m \u001b[39mimport\u001b[39;00m forward_compatibility_horizon\n\u001b[0;32m     40\u001b[0m \u001b[39mfrom\u001b[39;00m \u001b[39mtensorflow\u001b[39;00m\u001b[39m.\u001b[39;00m\u001b[39mpython\u001b[39;00m\u001b[39m.\u001b[39;00m\u001b[39mcompat\u001b[39;00m\u001b[39m.\u001b[39;00m\u001b[39mcompat\u001b[39;00m \u001b[39mimport\u001b[39;00m forward_compatible\n",
      "File \u001b[1;32mc:\\Users\\Mihir\\anaconda3\\lib\\site-packages\\tensorflow\\_api\\v2\\compat\\v2\\compat\\v2\\__init__.py:328\u001b[0m, in \u001b[0;36m<module>\u001b[1;34m\u001b[0m\n\u001b[0;32m    326\u001b[0m _current_module \u001b[39m=\u001b[39m _sys\u001b[39m.\u001b[39mmodules[\u001b[39m__name__\u001b[39m]\n\u001b[0;32m    327\u001b[0m \u001b[39mtry\u001b[39;00m:\n\u001b[1;32m--> 328\u001b[0m   \u001b[39mfrom\u001b[39;00m \u001b[39mtensorboard\u001b[39;00m\u001b[39m.\u001b[39;00m\u001b[39msummary\u001b[39;00m\u001b[39m.\u001b[39;00m\u001b[39m_tf\u001b[39;00m \u001b[39mimport\u001b[39;00m summary\n\u001b[0;32m    329\u001b[0m   _current_module\u001b[39m.\u001b[39m__path__ \u001b[39m=\u001b[39m (\n\u001b[0;32m    330\u001b[0m       [_module_util\u001b[39m.\u001b[39mget_parent_dir(summary)] \u001b[39m+\u001b[39m _current_module\u001b[39m.\u001b[39m__path__)\n\u001b[0;32m    331\u001b[0m   \u001b[39msetattr\u001b[39m(_current_module, \u001b[39m\"\u001b[39m\u001b[39msummary\u001b[39m\u001b[39m\"\u001b[39m, summary)\n",
      "File \u001b[1;32mc:\\Users\\Mihir\\anaconda3\\lib\\site-packages\\tensorboard\\summary\\__init__.py:22\u001b[0m, in \u001b[0;36m<module>\u001b[1;34m\u001b[0m\n\u001b[0;32m     20\u001b[0m \u001b[39m# If the V1 summary API is accessible, load and re-export it here.\u001b[39;00m\n\u001b[0;32m     21\u001b[0m \u001b[39mtry\u001b[39;00m:\n\u001b[1;32m---> 22\u001b[0m     \u001b[39mfrom\u001b[39;00m \u001b[39mtensorboard\u001b[39;00m\u001b[39m.\u001b[39;00m\u001b[39msummary\u001b[39;00m \u001b[39mimport\u001b[39;00m v1  \u001b[39m# noqa: F401\u001b[39;00m\n\u001b[0;32m     23\u001b[0m \u001b[39mexcept\u001b[39;00m \u001b[39mImportError\u001b[39;00m:\n\u001b[0;32m     24\u001b[0m     \u001b[39mpass\u001b[39;00m\n",
      "File \u001b[1;32mc:\\Users\\Mihir\\anaconda3\\lib\\site-packages\\tensorboard\\summary\\v1.py:23\u001b[0m, in \u001b[0;36m<module>\u001b[1;34m\u001b[0m\n\u001b[0;32m     21\u001b[0m \u001b[39mfrom\u001b[39;00m \u001b[39mtensorboard\u001b[39;00m\u001b[39m.\u001b[39;00m\u001b[39mplugins\u001b[39;00m\u001b[39m.\u001b[39;00m\u001b[39maudio\u001b[39;00m \u001b[39mimport\u001b[39;00m summary \u001b[39mas\u001b[39;00m _audio_summary\n\u001b[0;32m     22\u001b[0m \u001b[39mfrom\u001b[39;00m \u001b[39mtensorboard\u001b[39;00m\u001b[39m.\u001b[39;00m\u001b[39mplugins\u001b[39;00m\u001b[39m.\u001b[39;00m\u001b[39mcustom_scalar\u001b[39;00m \u001b[39mimport\u001b[39;00m summary \u001b[39mas\u001b[39;00m _custom_scalar_summary\n\u001b[1;32m---> 23\u001b[0m \u001b[39mfrom\u001b[39;00m \u001b[39mtensorboard\u001b[39;00m\u001b[39m.\u001b[39;00m\u001b[39mplugins\u001b[39;00m\u001b[39m.\u001b[39;00m\u001b[39mhistogram\u001b[39;00m \u001b[39mimport\u001b[39;00m summary \u001b[39mas\u001b[39;00m _histogram_summary\n\u001b[0;32m     24\u001b[0m \u001b[39mfrom\u001b[39;00m \u001b[39mtensorboard\u001b[39;00m\u001b[39m.\u001b[39;00m\u001b[39mplugins\u001b[39;00m\u001b[39m.\u001b[39;00m\u001b[39mimage\u001b[39;00m \u001b[39mimport\u001b[39;00m summary \u001b[39mas\u001b[39;00m _image_summary\n\u001b[0;32m     25\u001b[0m \u001b[39mfrom\u001b[39;00m \u001b[39mtensorboard\u001b[39;00m\u001b[39m.\u001b[39;00m\u001b[39mplugins\u001b[39;00m\u001b[39m.\u001b[39;00m\u001b[39mpr_curve\u001b[39;00m \u001b[39mimport\u001b[39;00m summary \u001b[39mas\u001b[39;00m _pr_curve_summary\n",
      "File \u001b[1;32mc:\\Users\\Mihir\\anaconda3\\lib\\site-packages\\tensorboard\\plugins\\histogram\\summary.py:35\u001b[0m, in \u001b[0;36m<module>\u001b[1;34m\u001b[0m\n\u001b[0;32m     32\u001b[0m \u001b[39mimport\u001b[39;00m \u001b[39mnumpy\u001b[39;00m \u001b[39mas\u001b[39;00m \u001b[39mnp\u001b[39;00m\n\u001b[0;32m     34\u001b[0m \u001b[39mfrom\u001b[39;00m \u001b[39mtensorboard\u001b[39;00m\u001b[39m.\u001b[39;00m\u001b[39mplugins\u001b[39;00m\u001b[39m.\u001b[39;00m\u001b[39mhistogram\u001b[39;00m \u001b[39mimport\u001b[39;00m metadata\n\u001b[1;32m---> 35\u001b[0m \u001b[39mfrom\u001b[39;00m \u001b[39mtensorboard\u001b[39;00m\u001b[39m.\u001b[39;00m\u001b[39mplugins\u001b[39;00m\u001b[39m.\u001b[39;00m\u001b[39mhistogram\u001b[39;00m \u001b[39mimport\u001b[39;00m summary_v2\n\u001b[0;32m     38\u001b[0m \u001b[39m# Export V3 versions.\u001b[39;00m\n\u001b[0;32m     39\u001b[0m histogram \u001b[39m=\u001b[39m summary_v2\u001b[39m.\u001b[39mhistogram\n",
      "File \u001b[1;32mc:\\Users\\Mihir\\anaconda3\\lib\\site-packages\\tensorboard\\plugins\\histogram\\summary_v2.py:35\u001b[0m, in \u001b[0;36m<module>\u001b[1;34m\u001b[0m\n\u001b[0;32m     33\u001b[0m \u001b[39mfrom\u001b[39;00m \u001b[39mtensorboard\u001b[39;00m\u001b[39m.\u001b[39;00m\u001b[39mplugins\u001b[39;00m\u001b[39m.\u001b[39;00m\u001b[39mhistogram\u001b[39;00m \u001b[39mimport\u001b[39;00m metadata\n\u001b[0;32m     34\u001b[0m \u001b[39mfrom\u001b[39;00m \u001b[39mtensorboard\u001b[39;00m\u001b[39m.\u001b[39;00m\u001b[39mutil\u001b[39;00m \u001b[39mimport\u001b[39;00m lazy_tensor_creator\n\u001b[1;32m---> 35\u001b[0m \u001b[39mfrom\u001b[39;00m \u001b[39mtensorboard\u001b[39;00m\u001b[39m.\u001b[39;00m\u001b[39mutil\u001b[39;00m \u001b[39mimport\u001b[39;00m tensor_util\n\u001b[0;32m     38\u001b[0m DEFAULT_BUCKET_COUNT \u001b[39m=\u001b[39m \u001b[39m30\u001b[39m\n\u001b[0;32m     41\u001b[0m \u001b[39mdef\u001b[39;00m \u001b[39mhistogram_pb\u001b[39m(tag, data, buckets\u001b[39m=\u001b[39m\u001b[39mNone\u001b[39;00m, description\u001b[39m=\u001b[39m\u001b[39mNone\u001b[39;00m):\n",
      "File \u001b[1;32mc:\\Users\\Mihir\\anaconda3\\lib\\site-packages\\tensorboard\\util\\tensor_util.py:20\u001b[0m, in \u001b[0;36m<module>\u001b[1;34m\u001b[0m\n\u001b[0;32m     17\u001b[0m \u001b[39mimport\u001b[39;00m \u001b[39mnumpy\u001b[39;00m \u001b[39mas\u001b[39;00m \u001b[39mnp\u001b[39;00m\n\u001b[0;32m     19\u001b[0m \u001b[39mfrom\u001b[39;00m \u001b[39mtensorboard\u001b[39;00m\u001b[39m.\u001b[39;00m\u001b[39mcompat\u001b[39;00m\u001b[39m.\u001b[39;00m\u001b[39mproto\u001b[39;00m \u001b[39mimport\u001b[39;00m tensor_pb2\n\u001b[1;32m---> 20\u001b[0m \u001b[39mfrom\u001b[39;00m \u001b[39mtensorboard\u001b[39;00m\u001b[39m.\u001b[39;00m\u001b[39mcompat\u001b[39;00m\u001b[39m.\u001b[39;00m\u001b[39mtensorflow_stub\u001b[39;00m \u001b[39mimport\u001b[39;00m dtypes, compat, tensor_shape\n\u001b[0;32m     23\u001b[0m \u001b[39mdef\u001b[39;00m \u001b[39mExtractBitsFromFloat16\u001b[39m(x):\n\u001b[0;32m     24\u001b[0m     \u001b[39mreturn\u001b[39;00m np\u001b[39m.\u001b[39masarray(x, dtype\u001b[39m=\u001b[39mnp\u001b[39m.\u001b[39mfloat16)\u001b[39m.\u001b[39mview(np\u001b[39m.\u001b[39muint16)\u001b[39m.\u001b[39mitem()\n",
      "File \u001b[1;32mc:\\Users\\Mihir\\anaconda3\\lib\\site-packages\\tensorboard\\compat\\tensorflow_stub\\__init__.py:22\u001b[0m, in \u001b[0;36m<module>\u001b[1;34m\u001b[0m\n\u001b[0;32m     20\u001b[0m \u001b[39mfrom\u001b[39;00m \u001b[39mtensorboard\u001b[39;00m\u001b[39m.\u001b[39;00m\u001b[39mcompat\u001b[39;00m\u001b[39m.\u001b[39;00m\u001b[39mproto\u001b[39;00m\u001b[39m.\u001b[39;00m\u001b[39mmeta_graph_pb2\u001b[39;00m \u001b[39mimport\u001b[39;00m \u001b[39m*\u001b[39m  \u001b[39m# noqa\u001b[39;00m\n\u001b[0;32m     21\u001b[0m \u001b[39mfrom\u001b[39;00m \u001b[39mtensorboard\u001b[39;00m\u001b[39m.\u001b[39;00m\u001b[39mcompat\u001b[39;00m\u001b[39m.\u001b[39;00m\u001b[39mproto\u001b[39;00m\u001b[39m.\u001b[39;00m\u001b[39msummary_pb2\u001b[39;00m \u001b[39mimport\u001b[39;00m \u001b[39m*\u001b[39m  \u001b[39m# noqa\u001b[39;00m\n\u001b[1;32m---> 22\u001b[0m \u001b[39mfrom\u001b[39;00m \u001b[39m.\u001b[39;00m\u001b[39mdtypes\u001b[39;00m \u001b[39mimport\u001b[39;00m as_dtype  \u001b[39m# noqa\u001b[39;00m\n\u001b[0;32m     23\u001b[0m \u001b[39mfrom\u001b[39;00m \u001b[39m.\u001b[39;00m\u001b[39mdtypes\u001b[39;00m \u001b[39mimport\u001b[39;00m DType  \u001b[39m# noqa\u001b[39;00m\n\u001b[0;32m     24\u001b[0m \u001b[39mfrom\u001b[39;00m \u001b[39m.\u001b[39;00m\u001b[39mdtypes\u001b[39;00m \u001b[39mimport\u001b[39;00m string  \u001b[39m# noqa\u001b[39;00m\n",
      "File \u001b[1;32mc:\\Users\\Mihir\\anaconda3\\lib\\site-packages\\tensorboard\\compat\\tensorflow_stub\\dtypes.py:19\u001b[0m, in \u001b[0;36m<module>\u001b[1;34m\u001b[0m\n\u001b[0;32m     15\u001b[0m \u001b[39m\"\"\"Library of dtypes (Tensor element types).\"\"\"\u001b[39;00m\n\u001b[0;32m     17\u001b[0m \u001b[39mimport\u001b[39;00m \u001b[39mnumpy\u001b[39;00m \u001b[39mas\u001b[39;00m \u001b[39mnp\u001b[39;00m\n\u001b[1;32m---> 19\u001b[0m \u001b[39mfrom\u001b[39;00m \u001b[39m.\u001b[39;00m \u001b[39mimport\u001b[39;00m pywrap_tensorflow\n\u001b[0;32m     20\u001b[0m \u001b[39mfrom\u001b[39;00m \u001b[39mtensorboard\u001b[39;00m\u001b[39m.\u001b[39;00m\u001b[39mcompat\u001b[39;00m\u001b[39m.\u001b[39;00m\u001b[39mproto\u001b[39;00m \u001b[39mimport\u001b[39;00m types_pb2\n\u001b[0;32m     22\u001b[0m _np_bfloat16 \u001b[39m=\u001b[39m pywrap_tensorflow\u001b[39m.\u001b[39mTF_bfloat16_type()\n",
      "File \u001b[1;32mc:\\Users\\Mihir\\anaconda3\\lib\\site-packages\\tensorboard\\compat\\tensorflow_stub\\pywrap_tensorflow.py:22\u001b[0m, in \u001b[0;36m<module>\u001b[1;34m\u001b[0m\n\u001b[0;32m     19\u001b[0m \u001b[39mimport\u001b[39;00m \u001b[39mstruct\u001b[39;00m\n\u001b[0;32m     21\u001b[0m \u001b[39mfrom\u001b[39;00m \u001b[39m.\u001b[39;00m \u001b[39mimport\u001b[39;00m errors\n\u001b[1;32m---> 22\u001b[0m \u001b[39mfrom\u001b[39;00m \u001b[39m.\u001b[39;00m\u001b[39mio\u001b[39;00m \u001b[39mimport\u001b[39;00m gfile\n\u001b[0;32m     25\u001b[0m TFE_DEVICE_PLACEMENT_WARN \u001b[39m=\u001b[39m \u001b[39m0\u001b[39m\n\u001b[0;32m     26\u001b[0m TFE_DEVICE_PLACEMENT_SILENT_FOR_INT32 \u001b[39m=\u001b[39m \u001b[39m0\u001b[39m\n",
      "File \u001b[1;32mc:\\Users\\Mihir\\anaconda3\\lib\\site-packages\\tensorboard\\compat\\tensorflow_stub\\io\\__init__.py:17\u001b[0m, in \u001b[0;36m<module>\u001b[1;34m\u001b[0m\n\u001b[0;32m      1\u001b[0m \u001b[39m# Copyright 2018 The TensorFlow Authors. All Rights Reserved.\u001b[39;00m\n\u001b[0;32m      2\u001b[0m \u001b[39m#\u001b[39;00m\n\u001b[0;32m      3\u001b[0m \u001b[39m# Licensed under the Apache License, Version 2.0 (the \"License\");\u001b[39;00m\n\u001b[1;32m   (...)\u001b[0m\n\u001b[0;32m     13\u001b[0m \u001b[39m# limitations under the License.\u001b[39;00m\n\u001b[0;32m     14\u001b[0m \u001b[39m# ==============================================================================\u001b[39;00m\n\u001b[1;32m---> 17\u001b[0m \u001b[39mfrom\u001b[39;00m \u001b[39m.\u001b[39;00m \u001b[39mimport\u001b[39;00m gfile\n",
      "File \u001b[1;32mc:\\Users\\Mihir\\anaconda3\\lib\\site-packages\\tensorboard\\compat\\tensorflow_stub\\io\\gfile.py:33\u001b[0m, in \u001b[0;36m<module>\u001b[1;34m\u001b[0m\n\u001b[0;32m     31\u001b[0m \u001b[39mtry\u001b[39;00m:\n\u001b[0;32m     32\u001b[0m     \u001b[39mimport\u001b[39;00m \u001b[39mbotocore\u001b[39;00m\u001b[39m.\u001b[39;00m\u001b[39mexceptions\u001b[39;00m\n\u001b[1;32m---> 33\u001b[0m     \u001b[39mimport\u001b[39;00m \u001b[39mboto3\u001b[39;00m\n\u001b[0;32m     35\u001b[0m     S3_ENABLED \u001b[39m=\u001b[39m \u001b[39mTrue\u001b[39;00m\n\u001b[0;32m     36\u001b[0m \u001b[39mexcept\u001b[39;00m \u001b[39mImportError\u001b[39;00m:\n",
      "File \u001b[1;32mc:\\Users\\Mihir\\anaconda3\\lib\\site-packages\\boto3\\__init__.py:17\u001b[0m, in \u001b[0;36m<module>\u001b[1;34m\u001b[0m\n\u001b[0;32m     14\u001b[0m \u001b[39mimport\u001b[39;00m \u001b[39mlogging\u001b[39;00m\n\u001b[0;32m     16\u001b[0m \u001b[39mfrom\u001b[39;00m \u001b[39mboto3\u001b[39;00m\u001b[39m.\u001b[39;00m\u001b[39mcompat\u001b[39;00m \u001b[39mimport\u001b[39;00m _warn_deprecated_python\n\u001b[1;32m---> 17\u001b[0m \u001b[39mfrom\u001b[39;00m \u001b[39mboto3\u001b[39;00m\u001b[39m.\u001b[39;00m\u001b[39msession\u001b[39;00m \u001b[39mimport\u001b[39;00m Session\n\u001b[0;32m     19\u001b[0m __author__ \u001b[39m=\u001b[39m \u001b[39m'\u001b[39m\u001b[39mAmazon Web Services\u001b[39m\u001b[39m'\u001b[39m\n\u001b[0;32m     20\u001b[0m __version__ \u001b[39m=\u001b[39m \u001b[39m'\u001b[39m\u001b[39m1.21.32\u001b[39m\u001b[39m'\u001b[39m\n",
      "File \u001b[1;32mc:\\Users\\Mihir\\anaconda3\\lib\\site-packages\\boto3\\session.py:17\u001b[0m, in \u001b[0;36m<module>\u001b[1;34m\u001b[0m\n\u001b[0;32m     14\u001b[0m \u001b[39mimport\u001b[39;00m \u001b[39mcopy\u001b[39;00m\n\u001b[0;32m     15\u001b[0m \u001b[39mimport\u001b[39;00m \u001b[39mos\u001b[39;00m\n\u001b[1;32m---> 17\u001b[0m \u001b[39mimport\u001b[39;00m \u001b[39mbotocore\u001b[39;00m\u001b[39m.\u001b[39;00m\u001b[39msession\u001b[39;00m\n\u001b[0;32m     18\u001b[0m \u001b[39mfrom\u001b[39;00m \u001b[39mbotocore\u001b[39;00m\u001b[39m.\u001b[39;00m\u001b[39mclient\u001b[39;00m \u001b[39mimport\u001b[39;00m Config\n\u001b[0;32m     19\u001b[0m \u001b[39mfrom\u001b[39;00m \u001b[39mbotocore\u001b[39;00m\u001b[39m.\u001b[39;00m\u001b[39mexceptions\u001b[39;00m \u001b[39mimport\u001b[39;00m DataNotFoundError, UnknownServiceError\n",
      "File \u001b[1;32mc:\\Users\\Mihir\\anaconda3\\lib\\site-packages\\botocore\\session.py:26\u001b[0m, in \u001b[0;36m<module>\u001b[1;34m\u001b[0m\n\u001b[0;32m     23\u001b[0m \u001b[39mimport\u001b[39;00m \u001b[39msocket\u001b[39;00m\n\u001b[0;32m     24\u001b[0m \u001b[39mimport\u001b[39;00m \u001b[39mwarnings\u001b[39;00m\n\u001b[1;32m---> 26\u001b[0m \u001b[39mimport\u001b[39;00m \u001b[39mbotocore\u001b[39;00m\u001b[39m.\u001b[39;00m\u001b[39mclient\u001b[39;00m\n\u001b[0;32m     27\u001b[0m \u001b[39mimport\u001b[39;00m \u001b[39mbotocore\u001b[39;00m\u001b[39m.\u001b[39;00m\u001b[39mconfigloader\u001b[39;00m\n\u001b[0;32m     28\u001b[0m \u001b[39mimport\u001b[39;00m \u001b[39mbotocore\u001b[39;00m\u001b[39m.\u001b[39;00m\u001b[39mcredentials\u001b[39;00m\n",
      "File \u001b[1;32mc:\\Users\\Mihir\\anaconda3\\lib\\site-packages\\botocore\\client.py:15\u001b[0m, in \u001b[0;36m<module>\u001b[1;34m\u001b[0m\n\u001b[0;32m      1\u001b[0m \u001b[39m# Copyright 2014 Amazon.com, Inc. or its affiliates. All Rights Reserved.\u001b[39;00m\n\u001b[0;32m      2\u001b[0m \u001b[39m#\u001b[39;00m\n\u001b[0;32m      3\u001b[0m \u001b[39m# Licensed under the Apache License, Version 2.0 (the \"License\"). You\u001b[39;00m\n\u001b[1;32m   (...)\u001b[0m\n\u001b[0;32m     11\u001b[0m \u001b[39m# ANY KIND, either express or implied. See the License for the specific\u001b[39;00m\n\u001b[0;32m     12\u001b[0m \u001b[39m# language governing permissions and limitations under the License.\u001b[39;00m\n\u001b[0;32m     13\u001b[0m \u001b[39mimport\u001b[39;00m \u001b[39mlogging\u001b[39;00m\n\u001b[1;32m---> 15\u001b[0m \u001b[39mfrom\u001b[39;00m \u001b[39mbotocore\u001b[39;00m \u001b[39mimport\u001b[39;00m waiter, xform_name\n\u001b[0;32m     16\u001b[0m \u001b[39mfrom\u001b[39;00m \u001b[39mbotocore\u001b[39;00m\u001b[39m.\u001b[39;00m\u001b[39margs\u001b[39;00m \u001b[39mimport\u001b[39;00m ClientArgsCreator\n\u001b[0;32m     17\u001b[0m \u001b[39mfrom\u001b[39;00m \u001b[39mbotocore\u001b[39;00m\u001b[39m.\u001b[39;00m\u001b[39mauth\u001b[39;00m \u001b[39mimport\u001b[39;00m AUTH_TYPE_MAPS\n",
      "File \u001b[1;32mc:\\Users\\Mihir\\anaconda3\\lib\\site-packages\\botocore\\waiter.py:18\u001b[0m, in \u001b[0;36m<module>\u001b[1;34m\u001b[0m\n\u001b[0;32m     14\u001b[0m \u001b[39mimport\u001b[39;00m \u001b[39mtime\u001b[39;00m\n\u001b[0;32m     16\u001b[0m \u001b[39mimport\u001b[39;00m \u001b[39mjmespath\u001b[39;00m\n\u001b[1;32m---> 18\u001b[0m \u001b[39mfrom\u001b[39;00m \u001b[39mbotocore\u001b[39;00m\u001b[39m.\u001b[39;00m\u001b[39mdocs\u001b[39;00m\u001b[39m.\u001b[39;00m\u001b[39mdocstring\u001b[39;00m \u001b[39mimport\u001b[39;00m WaiterDocstring\n\u001b[0;32m     19\u001b[0m \u001b[39mfrom\u001b[39;00m \u001b[39mbotocore\u001b[39;00m\u001b[39m.\u001b[39;00m\u001b[39mutils\u001b[39;00m \u001b[39mimport\u001b[39;00m get_service_module_name\n\u001b[0;32m     21\u001b[0m \u001b[39mfrom\u001b[39;00m \u001b[39m.\u001b[39;00m \u001b[39mimport\u001b[39;00m xform_name\n",
      "File \u001b[1;32mc:\\Users\\Mihir\\anaconda3\\lib\\site-packages\\botocore\\docs\\__init__.py:15\u001b[0m, in \u001b[0;36m<module>\u001b[1;34m\u001b[0m\n\u001b[0;32m      1\u001b[0m \u001b[39m# Copyright 2015 Amazon.com, Inc. or its affiliates. All Rights Reserved.\u001b[39;00m\n\u001b[0;32m      2\u001b[0m \u001b[39m#\u001b[39;00m\n\u001b[0;32m      3\u001b[0m \u001b[39m# Licensed under the Apache License, Version 2.0 (the \"License\"). You\u001b[39;00m\n\u001b[1;32m   (...)\u001b[0m\n\u001b[0;32m     11\u001b[0m \u001b[39m# ANY KIND, either express or implied. See the License for the specific\u001b[39;00m\n\u001b[0;32m     12\u001b[0m \u001b[39m# language governing permissions and limitations under the License.\u001b[39;00m\n\u001b[0;32m     13\u001b[0m \u001b[39mimport\u001b[39;00m \u001b[39mos\u001b[39;00m\n\u001b[1;32m---> 15\u001b[0m \u001b[39mfrom\u001b[39;00m \u001b[39mbotocore\u001b[39;00m\u001b[39m.\u001b[39;00m\u001b[39mdocs\u001b[39;00m\u001b[39m.\u001b[39;00m\u001b[39mservice\u001b[39;00m \u001b[39mimport\u001b[39;00m ServiceDocumenter\n\u001b[0;32m     18\u001b[0m \u001b[39mdef\u001b[39;00m \u001b[39mgenerate_docs\u001b[39m(root_dir, session):\n\u001b[0;32m     19\u001b[0m     \u001b[39m\"\"\"Generates the reference documentation for botocore\u001b[39;00m\n\u001b[0;32m     20\u001b[0m \n\u001b[0;32m     21\u001b[0m \u001b[39m    This will go through every available AWS service and output ReSTructured\u001b[39;00m\n\u001b[1;32m   (...)\u001b[0m\n\u001b[0;32m     26\u001b[0m \u001b[39m        root_dir/reference/services/service-name.rst\u001b[39;00m\n\u001b[0;32m     27\u001b[0m \u001b[39m    \"\"\"\u001b[39;00m\n",
      "File \u001b[1;32mc:\\Users\\Mihir\\anaconda3\\lib\\site-packages\\botocore\\docs\\service.py:14\u001b[0m, in \u001b[0;36m<module>\u001b[1;34m\u001b[0m\n\u001b[0;32m      1\u001b[0m \u001b[39m# Copyright 2015 Amazon.com, Inc. or its affiliates. All Rights Reserved.\u001b[39;00m\n\u001b[0;32m      2\u001b[0m \u001b[39m#\u001b[39;00m\n\u001b[0;32m      3\u001b[0m \u001b[39m# Licensed under the Apache License, Version 2.0 (the \"License\"). You\u001b[39;00m\n\u001b[1;32m   (...)\u001b[0m\n\u001b[0;32m     11\u001b[0m \u001b[39m# ANY KIND, either express or implied. See the License for the specific\u001b[39;00m\n\u001b[0;32m     12\u001b[0m \u001b[39m# language governing permissions and limitations under the License.\u001b[39;00m\n\u001b[0;32m     13\u001b[0m \u001b[39mfrom\u001b[39;00m \u001b[39mbotocore\u001b[39;00m\u001b[39m.\u001b[39;00m\u001b[39mdocs\u001b[39;00m\u001b[39m.\u001b[39;00m\u001b[39mbcdoc\u001b[39;00m\u001b[39m.\u001b[39;00m\u001b[39mrestdoc\u001b[39;00m \u001b[39mimport\u001b[39;00m DocumentStructure\n\u001b[1;32m---> 14\u001b[0m \u001b[39mfrom\u001b[39;00m \u001b[39mbotocore\u001b[39;00m\u001b[39m.\u001b[39;00m\u001b[39mdocs\u001b[39;00m\u001b[39m.\u001b[39;00m\u001b[39mclient\u001b[39;00m \u001b[39mimport\u001b[39;00m ClientDocumenter, ClientExceptionsDocumenter\n\u001b[0;32m     15\u001b[0m \u001b[39mfrom\u001b[39;00m \u001b[39mbotocore\u001b[39;00m\u001b[39m.\u001b[39;00m\u001b[39mdocs\u001b[39;00m\u001b[39m.\u001b[39;00m\u001b[39mpaginator\u001b[39;00m \u001b[39mimport\u001b[39;00m PaginatorDocumenter\n\u001b[0;32m     16\u001b[0m \u001b[39mfrom\u001b[39;00m \u001b[39mbotocore\u001b[39;00m\u001b[39m.\u001b[39;00m\u001b[39mdocs\u001b[39;00m\u001b[39m.\u001b[39;00m\u001b[39mwaiter\u001b[39;00m \u001b[39mimport\u001b[39;00m WaiterDocumenter\n",
      "File \u001b[1;32mc:\\Users\\Mihir\\anaconda3\\lib\\site-packages\\botocore\\docs\\client.py:14\u001b[0m, in \u001b[0;36m<module>\u001b[1;34m\u001b[0m\n\u001b[0;32m      1\u001b[0m \u001b[39m# Copyright 2015 Amazon.com, Inc. or its affiliates. All Rights Reserved.\u001b[39;00m\n\u001b[0;32m      2\u001b[0m \u001b[39m#\u001b[39;00m\n\u001b[0;32m      3\u001b[0m \u001b[39m# Licensed under the Apache License, Version 2.0 (the \"License\"). You\u001b[39;00m\n\u001b[1;32m   (...)\u001b[0m\n\u001b[0;32m     11\u001b[0m \u001b[39m# ANY KIND, either express or implied. See the License for the specific\u001b[39;00m\n\u001b[0;32m     12\u001b[0m \u001b[39m# language governing permissions and limitations under the License.\u001b[39;00m\n\u001b[0;32m     13\u001b[0m \u001b[39mfrom\u001b[39;00m \u001b[39mbotocore\u001b[39;00m\u001b[39m.\u001b[39;00m\u001b[39mcompat\u001b[39;00m \u001b[39mimport\u001b[39;00m OrderedDict\n\u001b[1;32m---> 14\u001b[0m \u001b[39mfrom\u001b[39;00m \u001b[39mbotocore\u001b[39;00m\u001b[39m.\u001b[39;00m\u001b[39mdocs\u001b[39;00m\u001b[39m.\u001b[39;00m\u001b[39mexample\u001b[39;00m \u001b[39mimport\u001b[39;00m ResponseExampleDocumenter\n\u001b[0;32m     15\u001b[0m \u001b[39mfrom\u001b[39;00m \u001b[39mbotocore\u001b[39;00m\u001b[39m.\u001b[39;00m\u001b[39mdocs\u001b[39;00m\u001b[39m.\u001b[39;00m\u001b[39mmethod\u001b[39;00m \u001b[39mimport\u001b[39;00m (\n\u001b[0;32m     16\u001b[0m     document_custom_method,\n\u001b[0;32m     17\u001b[0m     document_model_driven_method,\n\u001b[0;32m     18\u001b[0m     get_instance_public_methods,\n\u001b[0;32m     19\u001b[0m )\n\u001b[0;32m     20\u001b[0m \u001b[39mfrom\u001b[39;00m \u001b[39mbotocore\u001b[39;00m\u001b[39m.\u001b[39;00m\u001b[39mdocs\u001b[39;00m\u001b[39m.\u001b[39;00m\u001b[39mparams\u001b[39;00m \u001b[39mimport\u001b[39;00m ResponseParamsDocumenter\n",
      "File \u001b[1;32mc:\\Users\\Mihir\\anaconda3\\lib\\site-packages\\botocore\\docs\\example.py:13\u001b[0m, in \u001b[0;36m<module>\u001b[1;34m\u001b[0m\n\u001b[0;32m      1\u001b[0m \u001b[39m# Copyright 2015 Amazon.com, Inc. or its affiliates. All Rights Reserved.\u001b[39;00m\n\u001b[0;32m      2\u001b[0m \u001b[39m#\u001b[39;00m\n\u001b[0;32m      3\u001b[0m \u001b[39m# Licensed under the Apache License, Version 2.0 (the \"License\"). You\u001b[39;00m\n\u001b[1;32m   (...)\u001b[0m\n\u001b[0;32m     11\u001b[0m \u001b[39m# ANY KIND, either express or implied. See the License for the specific\u001b[39;00m\n\u001b[0;32m     12\u001b[0m \u001b[39m# language governing permissions and limitations under the License.\u001b[39;00m\n\u001b[1;32m---> 13\u001b[0m \u001b[39mfrom\u001b[39;00m \u001b[39mbotocore\u001b[39;00m\u001b[39m.\u001b[39;00m\u001b[39mdocs\u001b[39;00m\u001b[39m.\u001b[39;00m\u001b[39mshape\u001b[39;00m \u001b[39mimport\u001b[39;00m ShapeDocumenter\n\u001b[0;32m     14\u001b[0m \u001b[39mfrom\u001b[39;00m \u001b[39mbotocore\u001b[39;00m\u001b[39m.\u001b[39;00m\u001b[39mdocs\u001b[39;00m\u001b[39m.\u001b[39;00m\u001b[39mutils\u001b[39;00m \u001b[39mimport\u001b[39;00m py_default\n\u001b[0;32m     17\u001b[0m \u001b[39mclass\u001b[39;00m \u001b[39mBaseExampleDocumenter\u001b[39;00m(ShapeDocumenter):\n",
      "File \u001b[1;32mc:\\Users\\Mihir\\anaconda3\\lib\\site-packages\\botocore\\docs\\shape.py:19\u001b[0m, in \u001b[0;36m<module>\u001b[1;34m\u001b[0m\n\u001b[0;32m      1\u001b[0m \u001b[39m# Copyright 2015 Amazon.com, Inc. or its affiliates. All Rights Reserved.\u001b[39;00m\n\u001b[0;32m      2\u001b[0m \u001b[39m#\u001b[39;00m\n\u001b[0;32m      3\u001b[0m \u001b[39m# Licensed under the Apache License, Version 2.0 (the \"License\"). You\u001b[39;00m\n\u001b[1;32m   (...)\u001b[0m\n\u001b[0;32m     17\u001b[0m \u001b[39m# inherited from a Documenter class with the appropriate methods\u001b[39;00m\n\u001b[0;32m     18\u001b[0m \u001b[39m# and attributes.\u001b[39;00m\n\u001b[1;32m---> 19\u001b[0m \u001b[39mfrom\u001b[39;00m \u001b[39mbotocore\u001b[39;00m\u001b[39m.\u001b[39;00m\u001b[39mutils\u001b[39;00m \u001b[39mimport\u001b[39;00m is_json_value_header\n\u001b[0;32m     22\u001b[0m \u001b[39mclass\u001b[39;00m \u001b[39mShapeDocumenter\u001b[39;00m(\u001b[39mobject\u001b[39m):\n\u001b[0;32m     23\u001b[0m     EVENT_NAME \u001b[39m=\u001b[39m \u001b[39m'\u001b[39m\u001b[39m'\u001b[39m\n",
      "File \u001b[1;32mc:\\Users\\Mihir\\anaconda3\\lib\\site-packages\\botocore\\utils.py:34\u001b[0m, in \u001b[0;36m<module>\u001b[1;34m\u001b[0m\n\u001b[0;32m     32\u001b[0m \u001b[39mimport\u001b[39;00m \u001b[39mbotocore\u001b[39;00m\n\u001b[0;32m     33\u001b[0m \u001b[39mimport\u001b[39;00m \u001b[39mbotocore\u001b[39;00m\u001b[39m.\u001b[39;00m\u001b[39mawsrequest\u001b[39;00m\n\u001b[1;32m---> 34\u001b[0m \u001b[39mimport\u001b[39;00m \u001b[39mbotocore\u001b[39;00m\u001b[39m.\u001b[39;00m\u001b[39mhttpsession\u001b[39;00m\n\u001b[0;32m     35\u001b[0m \u001b[39mfrom\u001b[39;00m \u001b[39mbotocore\u001b[39;00m\u001b[39m.\u001b[39;00m\u001b[39mcompat\u001b[39;00m \u001b[39mimport\u001b[39;00m (\n\u001b[0;32m     36\u001b[0m     HAS_CRT,\n\u001b[0;32m     37\u001b[0m     MD5_AVAILABLE,\n\u001b[1;32m   (...)\u001b[0m\n\u001b[0;32m     47\u001b[0m     zip_longest,\n\u001b[0;32m     48\u001b[0m )\n\u001b[0;32m     49\u001b[0m \u001b[39mfrom\u001b[39;00m \u001b[39mbotocore\u001b[39;00m\u001b[39m.\u001b[39;00m\u001b[39mexceptions\u001b[39;00m \u001b[39mimport\u001b[39;00m (\n\u001b[0;32m     50\u001b[0m     ClientError,\n\u001b[0;32m     51\u001b[0m     ConfigNotFound,\n\u001b[1;32m   (...)\u001b[0m\n\u001b[0;32m     71\u001b[0m     UnsupportedS3ControlConfigurationError,\n\u001b[0;32m     72\u001b[0m )\n",
      "File \u001b[1;32mc:\\Users\\Mihir\\anaconda3\\lib\\site-packages\\botocore\\httpsession.py:34\u001b[0m, in \u001b[0;36m<module>\u001b[1;34m\u001b[0m\n\u001b[0;32m     30\u001b[0m     \u001b[39mfrom\u001b[39;00m \u001b[39mssl\u001b[39;00m \u001b[39mimport\u001b[39;00m OP_NO_TICKET, PROTOCOL_TLS_CLIENT\n\u001b[0;32m     32\u001b[0m \u001b[39mtry\u001b[39;00m:\n\u001b[0;32m     33\u001b[0m     \u001b[39m# Always import the original SSLContext, even if it has been patched\u001b[39;00m\n\u001b[1;32m---> 34\u001b[0m     \u001b[39mfrom\u001b[39;00m \u001b[39murllib3\u001b[39;00m\u001b[39m.\u001b[39;00m\u001b[39mcontrib\u001b[39;00m\u001b[39m.\u001b[39;00m\u001b[39mpyopenssl\u001b[39;00m \u001b[39mimport\u001b[39;00m orig_util_SSLContext \u001b[39mas\u001b[39;00m SSLContext\n\u001b[0;32m     35\u001b[0m \u001b[39mexcept\u001b[39;00m \u001b[39mImportError\u001b[39;00m:\n\u001b[0;32m     36\u001b[0m     \u001b[39mfrom\u001b[39;00m \u001b[39murllib3\u001b[39;00m\u001b[39m.\u001b[39;00m\u001b[39mutil\u001b[39;00m\u001b[39m.\u001b[39;00m\u001b[39mssl_\u001b[39;00m \u001b[39mimport\u001b[39;00m SSLContext\n",
      "File \u001b[1;32mc:\\Users\\Mihir\\anaconda3\\lib\\site-packages\\urllib3\\contrib\\pyopenssl.py:50\u001b[0m, in \u001b[0;36m<module>\u001b[1;34m\u001b[0m\n\u001b[0;32m      1\u001b[0m \u001b[39m\"\"\"\u001b[39;00m\n\u001b[0;32m      2\u001b[0m \u001b[39mTLS with SNI_-support for Python 2. Follow these instructions if you would\u001b[39;00m\n\u001b[0;32m      3\u001b[0m \u001b[39mlike to verify TLS certificates in Python 2. Note, the default libraries do\u001b[39;00m\n\u001b[1;32m   (...)\u001b[0m\n\u001b[0;32m     46\u001b[0m \u001b[39m.. _idna: https://github.com/kjd/idna\u001b[39;00m\n\u001b[0;32m     47\u001b[0m \u001b[39m\"\"\"\u001b[39;00m\n\u001b[0;32m     48\u001b[0m \u001b[39mfrom\u001b[39;00m \u001b[39m__future__\u001b[39;00m \u001b[39mimport\u001b[39;00m absolute_import\n\u001b[1;32m---> 50\u001b[0m \u001b[39mimport\u001b[39;00m \u001b[39mOpenSSL\u001b[39;00m\u001b[39m.\u001b[39;00m\u001b[39mSSL\u001b[39;00m\n\u001b[0;32m     51\u001b[0m \u001b[39mfrom\u001b[39;00m \u001b[39mcryptography\u001b[39;00m \u001b[39mimport\u001b[39;00m x509\n\u001b[0;32m     52\u001b[0m \u001b[39mfrom\u001b[39;00m \u001b[39mcryptography\u001b[39;00m\u001b[39m.\u001b[39;00m\u001b[39mhazmat\u001b[39;00m\u001b[39m.\u001b[39;00m\u001b[39mbackends\u001b[39;00m\u001b[39m.\u001b[39;00m\u001b[39mopenssl\u001b[39;00m \u001b[39mimport\u001b[39;00m backend \u001b[39mas\u001b[39;00m openssl_backend\n",
      "File \u001b[1;32mc:\\Users\\Mihir\\anaconda3\\lib\\site-packages\\OpenSSL\\__init__.py:8\u001b[0m, in \u001b[0;36m<module>\u001b[1;34m\u001b[0m\n\u001b[0;32m      1\u001b[0m \u001b[39m# Copyright (C) AB Strakt\u001b[39;00m\n\u001b[0;32m      2\u001b[0m \u001b[39m# See LICENSE for details.\u001b[39;00m\n\u001b[0;32m      4\u001b[0m \u001b[39m\"\"\"\u001b[39;00m\n\u001b[0;32m      5\u001b[0m \u001b[39mpyOpenSSL - A simple wrapper around the OpenSSL library\u001b[39;00m\n\u001b[0;32m      6\u001b[0m \u001b[39m\"\"\"\u001b[39;00m\n\u001b[1;32m----> 8\u001b[0m \u001b[39mfrom\u001b[39;00m \u001b[39mOpenSSL\u001b[39;00m \u001b[39mimport\u001b[39;00m crypto, SSL\n\u001b[0;32m      9\u001b[0m \u001b[39mfrom\u001b[39;00m \u001b[39mOpenSSL\u001b[39;00m\u001b[39m.\u001b[39;00m\u001b[39mversion\u001b[39;00m \u001b[39mimport\u001b[39;00m (\n\u001b[0;32m     10\u001b[0m     __author__,\n\u001b[0;32m     11\u001b[0m     __copyright__,\n\u001b[1;32m   (...)\u001b[0m\n\u001b[0;32m     17\u001b[0m     __version__,\n\u001b[0;32m     18\u001b[0m )\n\u001b[0;32m     21\u001b[0m __all__ \u001b[39m=\u001b[39m [\n\u001b[0;32m     22\u001b[0m     \u001b[39m\"\u001b[39m\u001b[39mSSL\u001b[39m\u001b[39m\"\u001b[39m,\n\u001b[0;32m     23\u001b[0m     \u001b[39m\"\u001b[39m\u001b[39mcrypto\u001b[39m\u001b[39m\"\u001b[39m,\n\u001b[1;32m   (...)\u001b[0m\n\u001b[0;32m     31\u001b[0m     \u001b[39m\"\u001b[39m\u001b[39m__version__\u001b[39m\u001b[39m\"\u001b[39m,\n\u001b[0;32m     32\u001b[0m ]\n",
      "File \u001b[1;32mc:\\Users\\Mihir\\anaconda3\\lib\\site-packages\\OpenSSL\\crypto.py:3279\u001b[0m, in \u001b[0;36m<module>\u001b[1;34m\u001b[0m\n\u001b[0;32m   3259\u001b[0m load_pkcs12 \u001b[39m=\u001b[39m utils\u001b[39m.\u001b[39mdeprecated(\n\u001b[0;32m   3260\u001b[0m     load_pkcs12,\n\u001b[0;32m   3261\u001b[0m     \u001b[39m__name__\u001b[39m,\n\u001b[1;32m   (...)\u001b[0m\n\u001b[0;32m   3266\u001b[0m     \u001b[39mDeprecationWarning\u001b[39;00m,\n\u001b[0;32m   3267\u001b[0m )\n\u001b[0;32m   3270\u001b[0m \u001b[39m# There are no direct unit tests for this initialization.  It is tested\u001b[39;00m\n\u001b[0;32m   3271\u001b[0m \u001b[39m# indirectly since it is necessary for functions like dump_privatekey when\u001b[39;00m\n\u001b[0;32m   3272\u001b[0m \u001b[39m# using encryption.\u001b[39;00m\n\u001b[1;32m   (...)\u001b[0m\n\u001b[0;32m   3277\u001b[0m \u001b[39m# OpenSSL library (and is linked against the same one that cryptography is\u001b[39;00m\n\u001b[0;32m   3278\u001b[0m \u001b[39m# using)).\u001b[39;00m\n\u001b[1;32m-> 3279\u001b[0m _lib\u001b[39m.\u001b[39;49mOpenSSL_add_all_algorithms()\n\u001b[0;32m   3281\u001b[0m \u001b[39m# This is similar but exercised mainly by exception_from_error_queue.  It calls\u001b[39;00m\n\u001b[0;32m   3282\u001b[0m \u001b[39m# both ERR_load_crypto_strings() and ERR_load_SSL_strings().\u001b[39;00m\n\u001b[0;32m   3283\u001b[0m _lib\u001b[39m.\u001b[39mSSL_load_error_strings()\n",
      "\u001b[1;31mAttributeError\u001b[0m: module 'lib' has no attribute 'OpenSSL_add_all_algorithms'"
     ]
    }
   ],
   "source": [
    "from transformers import TrOCRProcessor, VisionEncoderDecoderModel\n",
    "from PIL import Image"
   ]
  },
  {
   "cell_type": "code",
   "execution_count": 13,
   "metadata": {},
   "outputs": [
    {
     "name": "stderr",
     "output_type": "stream",
     "text": [
      "Could not find image processor class in the image processor config or the model config. Loading based on pattern matching with the model's feature extractor configuration.\n"
     ]
    },
    {
     "data": {
      "application/vnd.jupyter.widget-view+json": {
       "model_id": "a12f7a0beb134e6e8f91c86b3aa47310",
       "version_major": 2,
       "version_minor": 0
      },
      "text/plain": [
       "Downloading pytorch_model.bin:   0%|          | 0.00/1.33G [00:00<?, ?B/s]"
      ]
     },
     "metadata": {},
     "output_type": "display_data"
    },
    {
     "name": "stderr",
     "output_type": "stream",
     "text": [
      "Some weights of VisionEncoderDecoderModel were not initialized from the model checkpoint at microsoft/trocr-base-printed and are newly initialized: ['encoder.pooler.dense.weight', 'encoder.pooler.dense.bias']\n",
      "You should probably TRAIN this model on a down-stream task to be able to use it for predictions and inference.\n"
     ]
    },
    {
     "data": {
      "application/vnd.jupyter.widget-view+json": {
       "model_id": "80b8048a740045de9c64aad143f72735",
       "version_major": 2,
       "version_minor": 0
      },
      "text/plain": [
       "Downloading (…)neration_config.json:   0%|          | 0.00/190 [00:00<?, ?B/s]"
      ]
     },
     "metadata": {},
     "output_type": "display_data"
    }
   ],
   "source": [
    "image = Image.open(\"data\\images\\\\test_print_0.jpg\")\n",
    "\n",
    "processor = TrOCRProcessor.from_pretrained('microsoft/trocr-base-printed')\n",
    "model = VisionEncoderDecoderModel.from_pretrained('microsoft/trocr-base-printed')\n",
    "pixel_values = processor(images=image, return_tensors=\"pt\").pixel_values\n",
    "\n",
    "generated_ids = model.generate(pixel_values)\n",
    "generated_text = processor.batch_decode(generated_ids, skip_special_tokens=True)[0]"
   ]
  },
  {
   "cell_type": "code",
   "execution_count": 14,
   "metadata": {},
   "outputs": [
    {
     "data": {
      "text/plain": [
       "':'"
      ]
     },
     "execution_count": 14,
     "metadata": {},
     "output_type": "execute_result"
    }
   ],
   "source": [
    "generated_text"
   ]
  },
  {
   "cell_type": "code",
   "execution_count": 7,
   "metadata": {},
   "outputs": [
    {
     "name": "stdout",
     "output_type": "stream",
     "text": [
      "Credendtials from environ: C:\\Users\\Mihir\\Documents\\MSBA\\Spring_Term\\DEEP_LEARNING_PROJ\\keyFile.json\n"
     ]
    }
   ],
   "source": [
    "from IPython.display import Image\n",
    "from matplotlib import pyplot as plt\n",
    "import pandas as pd, numpy as np\n",
    "pd.options.display.float_format = '{:,.2f}'.format\n",
    "\n",
    "from google.cloud import vision\n",
    "import io\n",
    "\n",
    "import warnings\n",
    "warnings.simplefilter(\"ignore\")\n",
    "\n",
    "import os\n",
    "import cv2\n",
    "import re\n",
    "import pytesseract\n",
    "from pytesseract import Output\n",
    "from google.cloud import vision\n",
    "pytesseract.pytesseract.tesseract_cmd = r'C:\\\\Program Files\\\\Tesseract-OCR\\\\tesseract.exe'\n",
    "os.environ[\"GOOGLE_APPLICATION_CREDENTIALS\"] = \"C:\\\\Users\\\\Mihir\\\\Documents\\\\MSBA\\\\Spring_Term\\\\DEEP_LEARNING_PROJ\\\\keyFile.json\"\n",
    "print('Credendtials from environ: {}'.format(os.environ.get('GOOGLE_APPLICATION_CREDENTIALS')))\n"
   ]
  },
  {
   "cell_type": "code",
   "execution_count": 22,
   "metadata": {},
   "outputs": [],
   "source": [
    "img = cv2.imread('data/images/test_print_1.jpg')"
   ]
  },
  {
   "cell_type": "code",
   "execution_count": 30,
   "metadata": {},
   "outputs": [
    {
     "name": "stdout",
     "output_type": "stream",
     "text": [
      "Mining Example\n",
      "\n",
      "&q Who can see your viewing activity? Xx\n",
      "\n",
      "You must decide how much ore to extract from a mine that\n",
      "will be shut down and abandoned after T years of operation.\n",
      "\n",
      "The sales price of extracted ore is p dollars per ton, and the\n",
      "total cost of extracting x tons of ore in any year, given that the\n",
      "mine contains s tons at the beginning of the year, is x?/(1+s)\n",
      "dollars.\n",
      "\n",
      "The mine currently contains M tons of ore\n",
      "This discount factor is 5\n",
      "\n",
      "Assuming the amount of ore extracted in any year must be an\n",
      "integer number of tons, what extraction schedule maximizes\n",
      "\n",
      "profits? .\n",
      "\n"
     ]
    }
   ],
   "source": [
    "print(pytesseract.image_to_string(img))"
   ]
  },
  {
   "cell_type": "code",
   "execution_count": 24,
   "metadata": {},
   "outputs": [],
   "source": [
    "def CloudVisionTextExtractor(handwritings):\n",
    "    # convert image from numpy to bytes for submittion to Google Cloud Vision\n",
    "    _, encoded_image = cv2.imencode('.png', handwritings)\n",
    "    content = encoded_image.tobytes()\n",
    "    image = vision.Image(content=content)\n",
    "    \n",
    "    # feed handwriting image segment to the Google Cloud Vision API\n",
    "    client = vision.ImageAnnotatorClient()\n",
    "    response = client.document_text_detection(image=image)\n",
    "    \n",
    "    return response\n",
    "\n",
    "def getTextFromVisionResponse(response):\n",
    "    texts = []\n",
    "    for page in response.full_text_annotation.pages:\n",
    "        for i, block in enumerate(page.blocks):  \n",
    "            for paragraph in block.paragraphs:       \n",
    "                for word in paragraph.words:\n",
    "                    word_text = ''.join([symbol.text for symbol in word.symbols])\n",
    "                    texts.append(word_text)\n",
    "\n",
    "    return ' '.join(texts)"
   ]
  },
  {
   "cell_type": "code",
   "execution_count": 26,
   "metadata": {},
   "outputs": [],
   "source": [
    "vidcap = cv2.VideoCapture('data/videos/trimmed.mp4')\n",
    "vidcap.set(cv2.CAP_PROP_POS_MSEC,20000)      # just cue to 20 sec. position\n",
    "success,image = vidcap.read()"
   ]
  },
  {
   "cell_type": "code",
   "execution_count": 28,
   "metadata": {},
   "outputs": [
    {
     "name": "stdout",
     "output_type": "stream",
     "text": [
      "TEXAS The University of Texas at Austin ● & Who can see your viewing activity ? X ● Mining Example You must decide how much ore to extract from a mine that will be shut down and abandoned after T years of operation . The sales price of extracted ore is p dollars per ton , and the total cost of extracting x tons of ore in any year , given that the mine contains s tons at the beginning of the year , is x² / ( 1 + s ) dollars . WHAT START The mine currently contains M tons of ore This discount factor is GSB 3.106 ( McCombs ... Assuming the amount of ore extracted in any year must be an integer number of tons , what extraction schedule maximizes profits ? 9\n"
     ]
    }
   ],
   "source": [
    "handwritings = img\n",
    "response = CloudVisionTextExtractor(handwritings)\n",
    "handwrittenText = getTextFromVisionResponse(response)\n",
    "print(handwrittenText)"
   ]
  },
  {
   "cell_type": "code",
   "execution_count": null,
   "metadata": {},
   "outputs": [],
   "source": []
  }
 ],
 "metadata": {
  "kernelspec": {
   "display_name": "base",
   "language": "python",
   "name": "python3"
  },
  "language_info": {
   "codemirror_mode": {
    "name": "ipython",
    "version": 3
   },
   "file_extension": ".py",
   "mimetype": "text/x-python",
   "name": "python",
   "nbconvert_exporter": "python",
   "pygments_lexer": "ipython3",
   "version": "3.9.12"
  },
  "orig_nbformat": 4
 },
 "nbformat": 4,
 "nbformat_minor": 2
}
